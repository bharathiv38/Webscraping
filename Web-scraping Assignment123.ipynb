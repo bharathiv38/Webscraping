{
 "cells": [
  {
   "cell_type": "code",
   "execution_count": 55,
   "id": "2b14e5b4",
   "metadata": {},
   "outputs": [],
   "source": [
    "# entering “Data Analyst” in “Skill,Designations,Companies” field and enter “Bangalore” in “enter the location” field.\n",
    "\n",
    "search_field_designation=driver.find_element_by_id(\"qsb-keyword-sugg\")\n",
    "search_field_location=driver.find_element_by_id('qsb-location-sugg')\n",
    "search_field_designation.send_keys(\"Data Analyst\")\n",
    "search_field_location.send_keys(\"Bangalore\")"
   ]
  },
  {
   "cell_type": "code",
   "execution_count": null,
   "id": "06073f9e",
   "metadata": {},
   "outputs": [],
   "source": [
    "Q1"
   ]
  },
  {
   "cell_type": "code",
   "execution_count": 56,
   "id": "6db29d04",
   "metadata": {},
   "outputs": [],
   "source": [
    "# clicking the search button\n",
    "search_button=driver.find_element_by_xpath(\"//div[@class='search-btn']/button\")\n",
    "search_button.click()"
   ]
  },
  {
   "cell_type": "code",
   "execution_count": 57,
   "id": "68e59e67",
   "metadata": {},
   "outputs": [],
   "source": [
    "# creating empty lists for scraping data\n",
    "job_title=[]\n",
    "job_location=[]\n",
    "company_name=[]\n",
    "experience_required=[]"
   ]
  },
  {
   "cell_type": "code",
   "execution_count": 58,
   "id": "e8317dd8",
   "metadata": {},
   "outputs": [
    {
     "data": {
      "text/plain": [
       "['Senior Data Analyst', 'Senior Data Analyst']"
      ]
     },
     "execution_count": 58,
     "metadata": {},
     "output_type": "execute_result"
    }
   ],
   "source": [
    "#scraping the job-titles\n",
    "titles=driver.find_elements_by_xpath(\"//a[@class='title fw500 ellipsis']\")\n",
    "for i in titles:\n",
    "    if i.text is None :\n",
    "        job_title.append(\"--\") \n",
    "    else:\n",
    "        job_title.append(i.text)\n",
    "    \n",
    "job_title[0:2]"
   ]
  },
  {
   "cell_type": "code",
   "execution_count": 59,
   "id": "42f49e8b",
   "metadata": {},
   "outputs": [
    {
     "data": {
      "text/plain": [
       "['Bangalore/Bengaluru', 'Bangalore/Bengaluru(2nd Phase JP Nagar)']"
      ]
     },
     "execution_count": 59,
     "metadata": {},
     "output_type": "execute_result"
    }
   ],
   "source": [
    "#scraping the job-location\n",
    "locations=driver.find_elements_by_xpath(\"//li[@class='fleft grey-text br2 placeHolderLi location']/span[1]\")\n",
    "for i in locations:\n",
    "    if i.text is None :\n",
    "        job_location.append(\"--\") \n",
    "    else:\n",
    "        job_location.append(i.text)\n",
    "job_location[0:2]"
   ]
  },
  {
   "cell_type": "code",
   "execution_count": 60,
   "id": "805bb341",
   "metadata": {},
   "outputs": [
    {
     "data": {
      "text/plain": [
       "['Flipkart Internet Private Limited', '(3329 Reviews)']"
      ]
     },
     "execution_count": 60,
     "metadata": {},
     "output_type": "execute_result"
    }
   ],
   "source": [
    "#scraping the company_name \n",
    "companies=driver.find_elements_by_xpath(\"//div[@class='mt-7 companyInfo subheading lh16']/a\")\n",
    "for i in companies:\n",
    "    if i.text is None :\n",
    "        company_name.append(\"--\") \n",
    "    else:\n",
    "        company_name.append(i.text)\n",
    "company_name[0:2]"
   ]
  },
  {
   "cell_type": "code",
   "execution_count": 61,
   "id": "ef7a3acc",
   "metadata": {},
   "outputs": [
    {
     "data": {
      "text/plain": [
       "['2-5 Yrs', '5-8 Yrs']"
      ]
     },
     "execution_count": 61,
     "metadata": {},
     "output_type": "execute_result"
    }
   ],
   "source": [
    "#scraping the experience_required \n",
    "experience=driver.find_elements_by_xpath(\"//li[@class='fleft grey-text br2 placeHolderLi experience']/span[1]\")\n",
    "for i in experience:\n",
    "    if i.text is None :\n",
    "            experience_required.append(\"--\") \n",
    "    else:\n",
    "            experience_required.append(i.text)\n",
    "experience_required[0:2]"
   ]
  },
  {
   "cell_type": "code",
   "execution_count": 62,
   "id": "8cb26241",
   "metadata": {},
   "outputs": [
    {
     "data": {
      "text/html": [
       "<div>\n",
       "<style scoped>\n",
       "    .dataframe tbody tr th:only-of-type {\n",
       "        vertical-align: middle;\n",
       "    }\n",
       "\n",
       "    .dataframe tbody tr th {\n",
       "        vertical-align: top;\n",
       "    }\n",
       "\n",
       "    .dataframe thead th {\n",
       "        text-align: right;\n",
       "    }\n",
       "</style>\n",
       "<table border=\"1\" class=\"dataframe\">\n",
       "  <thead>\n",
       "    <tr style=\"text-align: right;\">\n",
       "      <th></th>\n",
       "      <th>experience_required</th>\n",
       "      <th>company_name</th>\n",
       "      <th>job_location</th>\n",
       "      <th>job_title</th>\n",
       "    </tr>\n",
       "  </thead>\n",
       "  <tbody>\n",
       "    <tr>\n",
       "      <th>0</th>\n",
       "      <td>2-5 Yrs</td>\n",
       "      <td>Flipkart Internet Private Limited</td>\n",
       "      <td>Bangalore/Bengaluru</td>\n",
       "      <td>Senior Data Analyst</td>\n",
       "    </tr>\n",
       "    <tr>\n",
       "      <th>1</th>\n",
       "      <td>5-8 Yrs</td>\n",
       "      <td>(3329 Reviews)</td>\n",
       "      <td>Bangalore/Bengaluru(2nd Phase JP Nagar)</td>\n",
       "      <td>Senior Data Analyst</td>\n",
       "    </tr>\n",
       "    <tr>\n",
       "      <th>2</th>\n",
       "      <td>2-3 Yrs</td>\n",
       "      <td>Liventus, Inc.</td>\n",
       "      <td>Bangalore/Bengaluru</td>\n",
       "      <td>Data Analyst, Component Engineering</td>\n",
       "    </tr>\n",
       "    <tr>\n",
       "      <th>3</th>\n",
       "      <td>1-5 Yrs</td>\n",
       "      <td>(6 Reviews)</td>\n",
       "      <td>Bangalore/Bengaluru</td>\n",
       "      <td>Business Analyst / Data Analyst - SQL Queries,...</td>\n",
       "    </tr>\n",
       "    <tr>\n",
       "      <th>4</th>\n",
       "      <td>3-6 Yrs</td>\n",
       "      <td>Rockwell Automation</td>\n",
       "      <td>Bangalore/Bengaluru</td>\n",
       "      <td>Data Analyst</td>\n",
       "    </tr>\n",
       "  </tbody>\n",
       "</table>\n",
       "</div>"
      ],
      "text/plain": [
       "  experience_required                       company_name  \\\n",
       "0             2-5 Yrs  Flipkart Internet Private Limited   \n",
       "1             5-8 Yrs                     (3329 Reviews)   \n",
       "2             2-3 Yrs                     Liventus, Inc.   \n",
       "3             1-5 Yrs                        (6 Reviews)   \n",
       "4             3-6 Yrs                Rockwell Automation   \n",
       "\n",
       "                              job_location  \\\n",
       "0                      Bangalore/Bengaluru   \n",
       "1  Bangalore/Bengaluru(2nd Phase JP Nagar)   \n",
       "2                      Bangalore/Bengaluru   \n",
       "3                      Bangalore/Bengaluru   \n",
       "4                      Bangalore/Bengaluru   \n",
       "\n",
       "                                           job_title  \n",
       "0                                Senior Data Analyst  \n",
       "1                                Senior Data Analyst  \n",
       "2                Data Analyst, Component Engineering  \n",
       "3  Business Analyst / Data Analyst - SQL Queries,...  \n",
       "4                                       Data Analyst  "
      ]
     },
     "execution_count": 62,
     "metadata": {},
     "output_type": "execute_result"
    }
   ],
   "source": [
    "# creating the dataframe from the scraped data and taking only first 10 jobs\n",
    "df=pd.DataFrame({\"experience_required\":experience_required[0:10],\"company_name\":company_name[0:10],\"job_location\":job_location[0:10],\n",
    "                \"job_title\":job_title[0:10]})\n",
    "df.head()"
   ]
  },
  {
   "cell_type": "markdown",
   "id": "561311a4",
   "metadata": {},
   "source": [
    "2.Please note that you have to scrape full job description. For that you may have to open each job separately as shown below\n",
    "You will get the search result as shown in the below webpage:\n",
    "You have"
   ]
  },
  {
   "cell_type": "code",
   "execution_count": 63,
   "id": "a9d685d6",
   "metadata": {},
   "outputs": [],
   "source": [
    "driver=webdriver.Chrome(r\"C:\\Users\\SYS1\\Downloads\\chromedriver_win32\\chromedriver.exe\")"
   ]
  },
  {
   "cell_type": "code",
   "execution_count": 64,
   "id": "4626ea47",
   "metadata": {},
   "outputs": [],
   "source": [
    "driver.get('https://www.naukri.com/')"
   ]
  },
  {
   "cell_type": "code",
   "execution_count": 65,
   "id": "46cea5b4",
   "metadata": {},
   "outputs": [],
   "source": [
    "# entering “Data Scientist” in “Skill,Designations,Companies” field and enter “Bangalore” in “enter the location” field.\n",
    "\n",
    "search_field_designation=driver.find_element_by_id(\"qsb-keyword-sugg\")\n",
    "search_field_location=driver.find_element_by_id('qsb-location-sugg')\n",
    "search_field_designation.send_keys(\"Data Scientist\")\n",
    "search_field_location.send_keys(\"Bangalore\")"
   ]
  },
  {
   "cell_type": "code",
   "execution_count": 66,
   "id": "8c8c9579",
   "metadata": {},
   "outputs": [],
   "source": [
    "# clicking the search button\n",
    "search_button=driver.find_element_by_xpath(\"//div[@class='search-btn']/button\")\n",
    "search_button.click()"
   ]
  },
  {
   "cell_type": "code",
   "execution_count": 67,
   "id": "43b78363",
   "metadata": {},
   "outputs": [],
   "source": [
    "# creating empty lists for scraping data\n",
    "job_title=[]\n",
    "job_location=[]\n",
    "company_name=[]\n",
    "full_job_description=[]"
   ]
  },
  {
   "cell_type": "code",
   "execution_count": 68,
   "id": "4c7f9bc0",
   "metadata": {},
   "outputs": [
    {
     "data": {
      "text/plain": [
       "['Senior Data Scientist I', 'IDM - Lead Data Scientist']"
      ]
     },
     "execution_count": 68,
     "metadata": {},
     "output_type": "execute_result"
    }
   ],
   "source": [
    "#scraping the job-titles\n",
    "titles=driver.find_elements_by_xpath(\"//a[@class='title fw500 ellipsis']\")\n",
    "for i in titles:\n",
    "    if i.text is None :\n",
    "        job_title.append(\"--\") \n",
    "    else:\n",
    "        job_title.append(i.text)\n",
    "    \n",
    "job_title[0:2]"
   ]
  },
  {
   "cell_type": "code",
   "execution_count": 69,
   "id": "52da19fd",
   "metadata": {},
   "outputs": [
    {
     "data": {
      "text/plain": [
       "['Philips India Limited', '(539 Reviews)']"
      ]
     },
     "execution_count": 69,
     "metadata": {},
     "output_type": "execute_result"
    }
   ],
   "source": [
    "#scraping the company_name \n",
    "companies=driver.find_elements_by_xpath(\"//div[@class='mt-7 companyInfo subheading lh16']/a\")\n",
    "for i in companies:\n",
    "    if i.text is None :\n",
    "        company_name.append(\"--\") \n",
    "    else:\n",
    "        company_name.append(i.text)\n",
    "company_name[0:2]"
   ]
  },
  {
   "cell_type": "code",
   "execution_count": 70,
   "id": "91690778",
   "metadata": {},
   "outputs": [
    {
     "data": {
      "text/plain": [
       "['Bangalore/Bengaluru', 'Bangalore/Bengaluru']"
      ]
     },
     "execution_count": 70,
     "metadata": {},
     "output_type": "execute_result"
    }
   ],
   "source": [
    "#scraping the job-location\n",
    "locations=driver.find_elements_by_xpath(\"//li[@class='fleft grey-text br2 placeHolderLi location']/span[1]\")\n",
    "for i in locations:\n",
    "    if i.text is None :\n",
    "        job_location.append(\"--\") \n",
    "    else:\n",
    "        job_location.append(i.text)\n",
    "job_location[0:2]"
   ]
  },
  {
   "cell_type": "code",
   "execution_count": 71,
   "id": "63a2b71d",
   "metadata": {},
   "outputs": [],
   "source": [
    "job_description=[]"
   ]
  },
  {
   "cell_type": "code",
   "execution_count": 72,
   "id": "3f53f108",
   "metadata": {},
   "outputs": [],
   "source": [
    "# scraping the full job-description, for scraping full job description we have to go in each of the jobs separately\n",
    "urls=[i.get_attribute(\"href\")for i in driver.find_elements_by_xpath(\"//a[@class='title fw500 ellipsis']\")]\n",
    "for url in urls[0:10]:\n",
    "    try:\n",
    "        \n",
    "        driver.get(url)\n",
    "        raw_description=driver.find_element_by_xpath(\"//section[@class='job-desc']/div[1]\").text\n",
    "        description=raw_description.replace(\"Contact Person\",\"@@@@@\")\n",
    "        description= description.split(\"@@@@@\")\n",
    "        job_description.append(description[0])\n",
    "    except NoSuchElementException :\n",
    "        job_description.append(\"---\")"
   ]
  },
  {
   "cell_type": "code",
   "execution_count": 73,
   "id": "f4f3d8ec",
   "metadata": {},
   "outputs": [
    {
     "data": {
      "text/html": [
       "<div>\n",
       "<style scoped>\n",
       "    .dataframe tbody tr th:only-of-type {\n",
       "        vertical-align: middle;\n",
       "    }\n",
       "\n",
       "    .dataframe tbody tr th {\n",
       "        vertical-align: top;\n",
       "    }\n",
       "\n",
       "    .dataframe thead th {\n",
       "        text-align: right;\n",
       "    }\n",
       "</style>\n",
       "<table border=\"1\" class=\"dataframe\">\n",
       "  <thead>\n",
       "    <tr style=\"text-align: right;\">\n",
       "      <th></th>\n",
       "      <th>job_title</th>\n",
       "      <th>company_name</th>\n",
       "      <th>job_location</th>\n",
       "      <th>job_description</th>\n",
       "    </tr>\n",
       "  </thead>\n",
       "  <tbody>\n",
       "    <tr>\n",
       "      <th>0</th>\n",
       "      <td>Senior Data Scientist I</td>\n",
       "      <td>Philips India Limited</td>\n",
       "      <td>Bangalore/Bengaluru</td>\n",
       "      <td>Job Responsibilities\\nUse predictive modeling ...</td>\n",
       "    </tr>\n",
       "    <tr>\n",
       "      <th>1</th>\n",
       "      <td>IDM - Lead Data Scientist</td>\n",
       "      <td>(539 Reviews)</td>\n",
       "      <td>Bangalore/Bengaluru</td>\n",
       "      <td>Your responsibilities\\nEnsure strategic direct...</td>\n",
       "    </tr>\n",
       "    <tr>\n",
       "      <th>2</th>\n",
       "      <td>Principal Data Scientist</td>\n",
       "      <td>Philips India Limited</td>\n",
       "      <td>Bangalore/Bengaluru</td>\n",
       "      <td>In this role, you have the opportunity to\\nPro...</td>\n",
       "    </tr>\n",
       "    <tr>\n",
       "      <th>3</th>\n",
       "      <td>Data Scientist - Business Analytics</td>\n",
       "      <td>(539 Reviews)</td>\n",
       "      <td>Bangalore/Bengaluru</td>\n",
       "      <td>Support business in their decision making need...</td>\n",
       "    </tr>\n",
       "    <tr>\n",
       "      <th>4</th>\n",
       "      <td>Data Scientist</td>\n",
       "      <td>Philips India Limited</td>\n",
       "      <td>Bangalore/Bengaluru</td>\n",
       "      <td>In this role, you have the opportunity to\\nPro...</td>\n",
       "    </tr>\n",
       "  </tbody>\n",
       "</table>\n",
       "</div>"
      ],
      "text/plain": [
       "                             job_title           company_name  \\\n",
       "0              Senior Data Scientist I  Philips India Limited   \n",
       "1            IDM - Lead Data Scientist          (539 Reviews)   \n",
       "2             Principal Data Scientist  Philips India Limited   \n",
       "3  Data Scientist - Business Analytics          (539 Reviews)   \n",
       "4                       Data Scientist  Philips India Limited   \n",
       "\n",
       "          job_location                                    job_description  \n",
       "0  Bangalore/Bengaluru  Job Responsibilities\\nUse predictive modeling ...  \n",
       "1  Bangalore/Bengaluru  Your responsibilities\\nEnsure strategic direct...  \n",
       "2  Bangalore/Bengaluru  In this role, you have the opportunity to\\nPro...  \n",
       "3  Bangalore/Bengaluru  Support business in their decision making need...  \n",
       "4  Bangalore/Bengaluru  In this role, you have the opportunity to\\nPro...  "
      ]
     },
     "execution_count": 73,
     "metadata": {},
     "output_type": "execute_result"
    }
   ],
   "source": [
    "# creating the dataframe from the scraped data and taking only first 10 jobs\n",
    "df=pd.DataFrame({\"job_title\":job_title[0:10],\"company_name\":company_name[0:10],\"job_location\":job_location[0:10],\n",
    "                \"job_description\":job_description[0:10]})\n",
    "df.head()"
   ]
  },
  {
   "cell_type": "code",
   "execution_count": 74,
   "id": "33d52ed8",
   "metadata": {},
   "outputs": [
    {
     "data": {
      "text/plain": [
       "['Job Responsibilities\\nUse predictive modeling to increase and optimize customer experiences, revenue generation, campaign optimization and other business outcomes\\nWork with product management to develop data use cases and embed predictive models in workflows on resource constrained platforms and cloud enabled.\\nSelecting features, building and optimizing classifiers using machine learning and deep learning techniques\\nCollaborates with Data Engineers to enhance data collection and ingestion/curation techniques to include information that is relevant for building analytic systems\\nProcessing, cleansing, and verifying the integrity of data used for analysis\\nDevelop processes and tools to monitor and analyze model performance and data accuracy. Life cycle management of predictive models.\\nAdherence to compliance procedures in accordance with regulatory standards, requirements, and policies. Managing and designing the reporting environment, including data sources security, and metadata.\\nJob Qualifications:\\nMaster s degree or PhD in Computer Science, Information management, Statistics or related field, with 10+ years of experience in the Consumer or Healthcare industry manipulating data sets and building predictive models with focus on product development\\nExperience in statistical modelling, machine learning, data mining, unstructured data analytics and natural language processing. Sound understanding of - Bayesian Modelling, Classification Models, Cluster Analysis, Neural Network, Nonparametric Methods, Multivariate Statistics, etc.\\nStrong hands on knowledge of ML techniques like regression algorithms, K-NN, Na ve Bayes, SVM and ensemble techniques like Random forest, AdaBoost etc\\nHaving strong knowledge in unsupervised learning algorithms using Neural networks and Deep-Learning\\nStrong knowledge in Data Wrangling and Exploration techniques to identify the patterns, trends and outliners.\\nDeep knowledge and practical experience with data science toolkits, such as NumPy, Pandas, scikit-learn or equivalent\\nExperience with data visualization tools, such as QlikView, Matplotlib, seaborn or equivalent tools.\\nProficiency in using query languages, such as SQL, PL/SQL\\nHands on experience in the one or more databases like Hadoop, AWS Redshift, Snowflake etc.\\nGood applied statistics skills, such as distributions, statistical testing, regression, etc.\\nGood ETL scripting and programming skills, such as Python, R or Scala to integrate developed solution into the proposition.\\nA team player capable of working and integrating across cross-functional team for implementing project requirements. Experience in technical requirements gathering and documentation.\\nAbility to work effectively and independently in a fast-paced global collaborative agile team environment with tight deadlines\\nA flexible, pragmatic and collaborative team player with innate ability to engage with stakeholders at all levels in the organization.\\nA self-starter with high levels of drive, energy, resilience and a desire for professional excellence with a passion for data and data science',\n",
       " 'Your responsibilities\\nEnsure strategic direction for data science capabilities for Philips is created and kept up to date on a regular basis\\nContinuously evaluate the latest techniques in Artificial intelligence, machine learning, robotics, statistical analysis\\nImplement advanced algorithms for business problems based on statistical analysis, coding, deep learning, advanced data mining techniques etc.\\nDevelop new algorithms if necessary, to bring predictive, advanced statistics / learning based solutions\\nDevelop algorithms to further automate processes and feed insights back into PIL for better business outcome\\nCo-create with business / market / functions or IT platforms on requirements\\nEnsure quality of data and solution developed\\nLead and drive data mining, creating algorithms, collection of data, collection of procedures during the design, build phases of a project\\nLead and drive in deploy and testing of the solutions and insights\\nSpot and evaluate emerging/cutting edge, open source, data science/machine learning libraries\\nYou are part of:\\nYou will be part of Group IT , Information and Data Management team that drives business impact through Data Science and Advanced analytics. A team that instigates collaboration across diverse teams globally to manage Data as an asset at Philips.\\nCore competencies needed to be successful:\\nA Master s Degree or PhD in Computer Science, Econometrics, Artificial Intelligence, Applied Mathematics, Statistics or equivalent;\\n10-15 years of overall experience in data science, data analytics roles\\n10+ years of experience in multiple of machine learning, data mining, deep learning, artificial intelligence, pattern recognition areas\\nExperience in driving implementation of solutions, data and algorithms on data warehouse and lakes like Azure , AWS, SQL etc\\nDemonstrable advanced programming experience in Python or another programming language such as Azure ML/R/Python etc ;\\nStrong analytical and social skills and the capability to translate data intelligence into valuable insights for the senior stakeholders in the company\\nAbility to formulate multiple complex business problems into hypothesis and proof of concepts for testing\\nManage Projects and lead a sub-portfolio of data science project teams to deliver results\\nCoach, Guide and direct teams of internal and vendor resources\\nCollaborate across IT platform teams to deploy solutions and drive continuous improvements\\nManage senior stakeholder in the company in a matrix organization i.e. Market / BG / Function leaders',\n",
       " 'In this role, you have the opportunity to\\nProvide data science solutions using advanced techniques, tools and methods to complex business problems. Create and maintain standards around data science for the company. Partner with businesses, markets and functions. Reporting Head of Information Data Management\\n\\n\\nYou are responsible for\\nCo-create with business / market / functions or IT platforms on data science projects to meet the business need for insights and analytics using sophisticated data science techniques i.e. automation, crunching big data sets, machine learning or AI\\nSetup projects to drive the business needs\\nParticipate in budgeting cycle, leading resources and running vendors\\nWork on continuously updating data science strategy including evaluate emerging/cutting edge, open source, data science/machine learning libraries/big data platforms\\nStrong proven experience in solving business problems through data science techniques, statistical modeling where simple analysis will not be sufficient\\nProvide technical and people leadership to the data science team\\nAbility to formulate multiple sophisticated business problems into hypothesis and proof of concepts for testing\\nCoach, Guide and lead teams of internal and vendor resources\\nDirect a team of 10-12 FTE data scientists and their priorities together with the partners and data information strategy\\nLead PL for the sub-department and the data science project portfolio\\nLead senior partner in the company in a matrix organization up to Executive committee levels, Market / BG / Function leaders\\nFormulate strategies for incorporating new, latest and cutting-edge techniques and tools\\nTo succeed in this role, you should have the following skills and experience\\nDemonstrable sophisticated programming experience in Python or another programming language such as Java/C/C++/R;\\nStrong analytical and interpersonal skills and the capability to translate data intelligence into valuable insights for the senior partners in the company\\nExperience in data analytics and in statistical (regression, clustering and classification), descriptive and diagnosis methods; knowledge of forecasting methods\\nA Master s Degree or PhD in Computer Science, Econometrics, Artificial Intelligence, Applied Mathematics, Statistics or equivalent;\\nCertifications or training in leadership MBA is a plus\\n15+ years of overall experience in data science, data analytics roles\\nproven experience in multiple of machine learning, data mining, deep learning, artificial intelligence, pattern recognition areas\\ndemonstrated ability in creating and leading data science and analytics teams\\nvalidated experience in creating and leading data science and / or data analytics strategy\\ndemonstrated ability in working in multinational companies with matrix structures including handling conflicting priorities from multiple partners',\n",
       " 'Support business in their decision making needs (Operational/ Strategic) by providing insights from Data.\\nAssess solutions for business opportunities by leveraging data (Transactional Data/ Big Data, External and Internal Data, Structured and Unstructured Data) and analytics methods.\\nProvide consulting, advice, training and support in analytics. Furthermore, will build the application related part of analytics knowledge base in the organization domain.\\nDeliver high impact Business insights enabled by Analytics to various functions under the Philips Group Operations. (Markets/ BGs/ Functions would also be consumers of the related Insights from Group Operations)\\nDrive Digital Innovation and deliver Value services to enable the Group Operations Transformation agenda. Enable improvement programs across Philips Sites- using levers such as process automation, digital technologies, analytics, artificial intelligence, etc\\nHarmonize and optimize various Analytics efforts happening under the wider Group Operations to maximize ROI from data analytics for Philips\\nKey Areas of Responsibilities\\nExpertise in analytics techniques/ methods and tools; Expertise in translating business requirements in to analytics and vice versa; strong execution and drive for results; focus on customers; change management skills; E2E operational excellence.\\nAnalytical bent of mind\\nExpertize in analytics solutions design, development and deployment\\nExpertize in predictive analytics techniques, and data mining\\nExperience in the areas of analytics, exposure to emerging digital technologies/ landscape. (eg Cloud computing, designing and embedding predictive analytics models into workflows/ processes)\\nExpertize in R, Python tools\\nExpertize in Machine learning AI techniques\\nAbility to manage stakeholders within the organisation\\nAbility to present facts based on data and in working with very large quantum of data\\nHave Business context across the multiple functions in an Organization - accelerating the ability to connect the dots across the breadth depth of large Organizations to enable Business results\\nExperience Qualifications\\nAbility to communicate clearly (oral, written and remote) to remote audience with clear business articulation\\nExpertise in multiple tools and techniques\\nUnderstands and supports many business processes with analytics solutions/ deliveries\\nManaging direct and indirect stakeholders (support functions) like Finance, IT etc.\\nCollaborates and influences with known stakeholders\\nIdentify and replicate best practices across the domain/tools techniques\\nKeep abreast with latest develop in analytics domain, emerging technology\\nAdvises business champions in the domain where analytics can contribute\\nYear of industry Exp: 8 10 Years; Relevant Exp in analytics domain: 5+ years',\n",
       " 'In this role, you have the opportunity to\\nProvide data science solutions using advanced techniques, tools and methods to complex business problems. Create and maintain standards around data science for the company. Partner with businesses, markets and functions.\\nYou are responsible for\\nCo-create with business / market / functions or IT platforms on requirements\\nInterpret and analyze data problems and come up with viable solutions, hypothesis and proof of concepts\\nEnsure quality of data and solution developed\\nLead and drive data mining, creating algorithms, collection of data, collection of procedures during the design, build phases of a project\\nLead and drive in deploy and testing of the solutions and insights\\nWorking with big data and databases\\nProvide support to inexperienced analysts\\nSpot and evaluate emerging/cutting edge, open source, data science/machine learning libraries\\nTo succeed in this role, you should have the following skills and experience\\nDemonstrable advanced programming experience in Python or another programming language such as Java/C/C++/R;\\nStrong analytical and social skills and the capability to translate data intelligence into valuable insights for the senior stakeholders in the company\\nExperience in data analytics and in statistical (regression, clustering and classification), descriptive and diagnosis methods; knowledge of forecasting methods\\nAbility to formulate multiple complex business problems into hypothesis and proof of concepts for testing\\nCoach, Guide and direct teams of internal and vendor resources\\nManage and lead a sub-portfolio of data science projects\\nManage data science project budgets for sub-areas\\nManage senior stakeholder in the company in a matrix organization i.e. Market / BG / Function leaders\\nA Master s Degree or PhD in Computer Science, Econometrics, Artificial Intelligence, Applied Mathematics, Statistics or equivalent;\\n10-15 years of overall experience in data science, data analytics roles 10+ years of experience in multiple of machine learning, data mining, deep learning, artificial intelligence, pattern recognition areas\\n10+ years of experience in using programming languages such as python, R, JAVA, C/C++ etc. to build data science solution\\n2+ years of experience in working in multinational companies with matrix structures\\n2+ years of making choices for high impact solution-based data science technique\\nExperience in driving implementation of solutions, data and algorithms on data warehouse and lakes',\n",
       " '---',\n",
       " 'Preferred Qualifications\\n5-8 years experience in data science.\\nProfessional certifications.\\nExperience with visualization tools such as PowerBI and Tableau\\nExperience with NLP/NLU technologies (Amazon Lex, Google DialogFlow, etc)\\nExperience with AI/ML technologies (Tensorflow, Amazon Sagemaker, etc)\\nExperience with SQL\\nExperience working in an Agile environment\\nA portfolio of relevant work to share\\n\\nNote: If you are interested, kindly revert back with your updated resume ASAP. (sharan_c@trigent.com)',\n",
       " 'Preferred Qualifications\\n5-8 years experience in data science.\\nProfessional certifications.\\nExperience with visualization tools such as PowerBI and Tableau\\nExperience with NLP/NLU technologies (Amazon Lex, Google DialogFlow, etc)\\nExperience with AI/ML technologies (Tensorflow, Amazon Sagemaker, etc)\\nExperience with SQL\\nExperience working in an Agile environment\\nA portfolio of relevant work to share\\n\\nNote: If you are interested, kindly revert back with your updated resume ASAP. (sharan_c@trigent.com)',\n",
       " 'Responsibilities\\nIdentify valuable data sources and automate collection processes\\nUndertake preprocessing of structured and unstructured data\\nAnalyze large amounts of information to discover trends and patterns\\nBuild predictive models and machine-learning algorithms\\nCombine models through ensemble modeling\\nPresent information using data visualization techniques\\nPropose solutions and strategies to business challenges\\nCollaborate with engineering and product development teams\\n\\nRequirements\\nProven experience as a Data Scientist or Data Analyst\\nExperience in data mining, Deep Learning\\nUnderstanding of machine-learning and operations research\\nExperience with NLP\\nExperience with Python\\nExperience using business intelligence tools (e.g. Tableau) and data frameworks (e.g. Hadoop)\\nAnalytical mind and business acumen\\nVery Strong math skills (e.g. statistics, algebra etc.,)\\nProblem-solving aptitude\\nExcellent communication and presentation skills',\n",
       " '  Job Description Data Scientist\\nExcellent, accurate d ata analysis and timely action required to organizational monitoring and control over the performance management system. Should have experience in handling large size of data sets which are in structured unstructured data. This role involves development of solutions. This role provides on the ground, day to day analysis and support to customers [internal counterparts], to predict the future analysis through various modelling algorithm techniques to provide analysis and key insights to the findings which is a vital part of enabling GTS-OPM to deliver a top class service to its customers/end users.\\nSkill Sets Proficient in Python/R 3 + years Experience in Machine Learning concepts - Regression, Classification, Clustering, Time series, Anomaly Detection, NLP. Experience in model tuning and Experience in Neural Network concepts Experience building dashboards using shiny/dash/streamlit Experience building and providing data visualizations to explain data much more intuitively.\\nAbility to extract and analyze data, patterns, and related trends is needed, with the subsequent ability to synthesize the data into information consumable by senior business decision makers.\\nWorking knowledge of setting up and consuming from data pipelines using Fluentd / Kafka / ELK Stack\\nGood understanding and usage of data base management systems - SQL, Postgre, NO-SQL\\nDevelops and maintains scalable data pipelines and builds out new API integrations to support continuing increases in data volume and complexity\\nSetting up and scheduling Machine learning projects using Apache airflow Automations using python shell scripting Proficient knowledge in Git CI-CD tools\\nEducation, Experience, and Licensing Requirements:\\nBS or MS degree in Computer Science or a related technical field 3-5 years of Data Science/ Machine Learning experience Good knowledge of taking solutions to production. Maintain excellent communications (by phone and in writing) with Customers at all levels. 3-5 years of experience with schema design and dimensional data modeling Agile methodology']"
      ]
     },
     "execution_count": 74,
     "metadata": {},
     "output_type": "execute_result"
    }
   ],
   "source": [
    "job_description"
   ]
  },
  {
   "cell_type": "markdown",
   "id": "0c313df2",
   "metadata": {},
   "source": [
    "Q3: In this question you have to scrape data using the filters available on the webpage as shown below:\n",
    "You have to use the location and salary filter.\n",
    "You have to scrape data for “Data Scientist” designation for first 10 job results.\n",
    "You have to scrape the job-title, job-location, company_name, experience_required.\n",
    "The location filter to be used is “Delhi/NCR”\n",
    "The salary filter to be used is “3-6” lakhs\n",
    "The task will be done as shown in the below steps:\n",
    "1. first get the webpage https://www.naukri.com/\n",
    "2. Enter “Data Scientist” in “Skill,Designations,Companies” field .\n",
    "3. Then click the search button.\n",
    "4. Then apply the location filter and salary filter by checking the respective boxes\n",
    "4. Then scrape the data for the first 10 jobs results you get.\n",
    "5. Finally create a dataframe of the scraped data.\n",
    "Note- All of the above steps have to be done in code. No step is to be done manually."
   ]
  },
  {
   "cell_type": "code",
   "execution_count": 6,
   "id": "127f0b1b",
   "metadata": {},
   "outputs": [],
   "source": [
    "import pandas as pd\n",
    "import numpy as np\n",
    "from selenium import webdriver\n",
    "from selenium.common.exceptions import StaleElementReferenceException, NoSuchElementException"
   ]
  },
  {
   "cell_type": "code",
   "execution_count": 7,
   "id": "cb67b828",
   "metadata": {},
   "outputs": [],
   "source": [
    "driver=webdriver.Chrome(r\"C:\\Users\\SYS1\\Downloads\\chromedriver_win32\\chromedriver.exe\")"
   ]
  },
  {
   "cell_type": "code",
   "execution_count": 8,
   "id": "84d08a8f",
   "metadata": {},
   "outputs": [],
   "source": [
    "driver.get(\"https://www.naukri.com/\")"
   ]
  },
  {
   "cell_type": "code",
   "execution_count": 9,
   "id": "8a76750c",
   "metadata": {},
   "outputs": [],
   "source": [
    "# entering “Data Scientist” in “Skill,Designations,Companies” field \n",
    "search_field_designation=driver.find_element_by_id(\"qsb-keyword-sugg\")\n",
    "\n",
    "search_field_designation.send_keys(\"Data Scientist\")"
   ]
  },
  {
   "cell_type": "code",
   "execution_count": 10,
   "id": "3a39987c",
   "metadata": {},
   "outputs": [],
   "source": [
    "# clicking the search button\n",
    "search_button=driver.find_element_by_xpath(\"//div[@class='search-btn']/button\")\n",
    "search_button.click()"
   ]
  },
  {
   "cell_type": "code",
   "execution_count": 11,
   "id": "6bd351b6",
   "metadata": {},
   "outputs": [],
   "source": [
    "# creating empty lists for scraping data\n",
    "job_title=[]\n",
    "job_location=[]\n",
    "company_name=[]\n",
    "experience_required=[]"
   ]
  },
  {
   "cell_type": "code",
   "execution_count": 18,
   "id": "64f7283d",
   "metadata": {},
   "outputs": [],
   "source": [
    "# finding the salary check box\n",
    "loc=driver.find_element_by_xpath(\"//span[@title='3-6 Lakhs']\")\n",
    "\n",
    "# clicking the check box\n",
    "loc.click()"
   ]
  },
  {
   "cell_type": "code",
   "execution_count": 20,
   "id": "62573d67",
   "metadata": {},
   "outputs": [],
   "source": [
    "# finding the salary check box\n",
    "loc=driver.find_element_by_xpath(\"//span[@title='3-6 Lakhs']\")\n",
    "\n",
    "# clicking the check box\n",
    "loc.click()"
   ]
  },
  {
   "cell_type": "code",
   "execution_count": 21,
   "id": "c4274305",
   "metadata": {},
   "outputs": [
    {
     "data": {
      "text/plain": [
       "['Senior Data Scientist', 'Principal Data Scientist']"
      ]
     },
     "execution_count": 21,
     "metadata": {},
     "output_type": "execute_result"
    }
   ],
   "source": [
    "#scraping the job-titles\n",
    "titles=driver.find_elements_by_xpath(\"//a[@class='title fw500 ellipsis']\")\n",
    "for i in titles:\n",
    "    if i.text is None :\n",
    "        job_title.append(\"--\") \n",
    "    else:\n",
    "        job_title.append(i.text)\n",
    "    \n",
    "job_title[0:2]"
   ]
  },
  {
   "cell_type": "code",
   "execution_count": 22,
   "id": "ce5f724a",
   "metadata": {},
   "outputs": [
    {
     "data": {
      "text/plain": [
       "['Bangalore/Bengaluru', 'Bangalore/Bengaluru']"
      ]
     },
     "execution_count": 22,
     "metadata": {},
     "output_type": "execute_result"
    }
   ],
   "source": [
    "#scraping the job-location\n",
    "locations=driver.find_elements_by_xpath(\"//li[@class='fleft grey-text br2 placeHolderLi location']/span[1]\")\n",
    "for i in locations:\n",
    "    if i.text is None :\n",
    "        job_location.append(\"--\") \n",
    "    else:\n",
    "        job_location.append(i.text)\n",
    "job_location[0:2]"
   ]
  },
  {
   "cell_type": "code",
   "execution_count": 23,
   "id": "bd450012",
   "metadata": {},
   "outputs": [
    {
     "data": {
      "text/plain": [
       "['5-10 Yrs', '8-13 Yrs']"
      ]
     },
     "execution_count": 23,
     "metadata": {},
     "output_type": "execute_result"
    }
   ],
   "source": [
    "#scraping the company_name \n",
    "companies=driver.find_elements_by_xpath(\"//div[@class='mt-7 companyInfo subheading lh16']/a\")\n",
    "for i in companies:\n",
    "    if i.text is None :\n",
    "        company_name.append(\"--\") \n",
    "    else:\n",
    "        company_name.append(i.text)\n",
    "company_name[0:2]\n",
    "\n",
    " #scraping the experience_required \n",
    "experience=driver.find_elements_by_xpath(\"//li[@class='fleft grey-text br2 placeHolderLi experience']/span[1]\")\n",
    "for i in experience:\n",
    "    if i.text is None :\n",
    "            experience_required.append(\"--\") \n",
    "    else:\n",
    "            experience_required.append(i.text)\n",
    "experience_required[0:2]"
   ]
  },
  {
   "cell_type": "code",
   "execution_count": 24,
   "id": "7bd8dfb1",
   "metadata": {},
   "outputs": [
    {
     "data": {
      "text/html": [
       "<div>\n",
       "<style scoped>\n",
       "    .dataframe tbody tr th:only-of-type {\n",
       "        vertical-align: middle;\n",
       "    }\n",
       "\n",
       "    .dataframe tbody tr th {\n",
       "        vertical-align: top;\n",
       "    }\n",
       "\n",
       "    .dataframe thead th {\n",
       "        text-align: right;\n",
       "    }\n",
       "</style>\n",
       "<table border=\"1\" class=\"dataframe\">\n",
       "  <thead>\n",
       "    <tr style=\"text-align: right;\">\n",
       "      <th></th>\n",
       "      <th>experience_required</th>\n",
       "      <th>company_name</th>\n",
       "      <th>job_location</th>\n",
       "      <th>job_title</th>\n",
       "    </tr>\n",
       "  </thead>\n",
       "  <tbody>\n",
       "    <tr>\n",
       "      <th>0</th>\n",
       "      <td>5-10 Yrs</td>\n",
       "      <td>24/7 Customer</td>\n",
       "      <td>Bangalore/Bengaluru</td>\n",
       "      <td>Senior Data Scientist</td>\n",
       "    </tr>\n",
       "    <tr>\n",
       "      <th>1</th>\n",
       "      <td>8-13 Yrs</td>\n",
       "      <td>(1194 Reviews)</td>\n",
       "      <td>Bangalore/Bengaluru</td>\n",
       "      <td>Principal Data Scientist</td>\n",
       "    </tr>\n",
       "    <tr>\n",
       "      <th>2</th>\n",
       "      <td>6-10 Yrs</td>\n",
       "      <td>24/7 Customer</td>\n",
       "      <td>Bangalore/Bengaluru</td>\n",
       "      <td>Senior Data Scientist I</td>\n",
       "    </tr>\n",
       "    <tr>\n",
       "      <th>3</th>\n",
       "      <td>5-10 Yrs</td>\n",
       "      <td>(1194 Reviews)</td>\n",
       "      <td>Kolkata, Hyderabad/Secunderabad, Pune, Ahmedab...</td>\n",
       "      <td>Data Scientist</td>\n",
       "    </tr>\n",
       "    <tr>\n",
       "      <th>4</th>\n",
       "      <td>5-10 Yrs</td>\n",
       "      <td>Philips India Limited</td>\n",
       "      <td>Kolkata, Hyderabad/Secunderabad, Pune, Ahmedab...</td>\n",
       "      <td>Data Scientist</td>\n",
       "    </tr>\n",
       "  </tbody>\n",
       "</table>\n",
       "</div>"
      ],
      "text/plain": [
       "  experience_required           company_name  \\\n",
       "0            5-10 Yrs          24/7 Customer   \n",
       "1            8-13 Yrs         (1194 Reviews)   \n",
       "2            6-10 Yrs          24/7 Customer   \n",
       "3            5-10 Yrs         (1194 Reviews)   \n",
       "4            5-10 Yrs  Philips India Limited   \n",
       "\n",
       "                                        job_location                 job_title  \n",
       "0                                Bangalore/Bengaluru     Senior Data Scientist  \n",
       "1                                Bangalore/Bengaluru  Principal Data Scientist  \n",
       "2                                Bangalore/Bengaluru   Senior Data Scientist I  \n",
       "3  Kolkata, Hyderabad/Secunderabad, Pune, Ahmedab...            Data Scientist  \n",
       "4  Kolkata, Hyderabad/Secunderabad, Pune, Ahmedab...            Data Scientist  "
      ]
     },
     "execution_count": 24,
     "metadata": {},
     "output_type": "execute_result"
    }
   ],
   "source": [
    "# creating the dataframe from the scraped data and taking only first 10 jobs\n",
    "df=pd.DataFrame({\"experience_required\":experience_required[0:10],\"company_name\":company_name[0:10],\"job_location\":job_location[0:10],\n",
    "                \"job_title\":job_title[0:10]})\n",
    "df.head()"
   ]
  }
 ],
 "metadata": {
  "kernelspec": {
   "display_name": "Python 3",
   "language": "python",
   "name": "python3"
  },
  "language_info": {
   "codemirror_mode": {
    "name": "ipython",
    "version": 3
   },
   "file_extension": ".py",
   "mimetype": "text/x-python",
   "name": "python",
   "nbconvert_exporter": "python",
   "pygments_lexer": "ipython3",
   "version": "3.8.5"
  }
 },
 "nbformat": 4,
 "nbformat_minor": 5
}
