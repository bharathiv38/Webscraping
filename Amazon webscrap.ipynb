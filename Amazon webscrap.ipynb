{
 "cells": [
  {
   "cell_type": "code",
   "execution_count": 10,
   "id": "random-configuration",
   "metadata": {
    "scrolled": true
   },
   "outputs": [],
   "source": [
    "from bs4 import BeautifulSoup\n",
    "import pandas as pd"
   ]
  },
  {
   "cell_type": "code",
   "execution_count": 11,
   "id": "cloudy-median",
   "metadata": {},
   "outputs": [
    {
     "name": "stdout",
     "output_type": "stream",
     "text": [
      "                                                  Name       Price  \\\n",
      "0    OPPO A74 5G (Fluid Black, 6GB RAM, 128GB Stora...   20,990.00   \n",
      "1    Oppo A31 (Fantasy White, 6GB RAM, 128GB Storag...   15,990.00   \n",
      "2    Redmi 9 (Sky Blue, 4GB RAM, 64GB Storage)| 500...    8,799.00   \n",
      "3    Redmi 9A (Nature Green, 2GB RAM, 32GB Storage)...    8,499.00   \n",
      "4    Oppo A31 (Fantasy White, 6GB RAM, 128GB Storag...   15,990.00   \n",
      "..                                                 ...         ...   \n",
      "145  Redmi 9 Prime (Sunrise Flare, 4GB RAM, 64GB St...   11,999.00   \n",
      "146  Oppo F19 (Prism Black, 6GB RAM, 128GB Storage)...   20,990.00   \n",
      "147  OPPO Reno5 Pro 5G (Astral Blue, 8GB RAM, 128GB...   38,990.00   \n",
      "148  OPPO Reno5 Pro 5G (Starry Black, 8GB RAM, 128G...   38,990.00   \n",
      "149  Tecno Spark 7 Pro (Alps Blue, 4GB RAM 64GB Sto...    9,999.00   \n",
      "\n",
      "                 Rating                                         Image_link  \n",
      "0    4.2 out of 5 stars  https://images-na.ssl-images-amazon.com/images...  \n",
      "1    4.2 out of 5 stars  https://images-na.ssl-images-amazon.com/images...  \n",
      "2    4.2 out of 5 stars  https://images-na.ssl-images-amazon.com/images...  \n",
      "3    4.2 out of 5 stars  https://images-na.ssl-images-amazon.com/images...  \n",
      "4    4.2 out of 5 stars  https://images-na.ssl-images-amazon.com/images...  \n",
      "..                  ...                                                ...  \n",
      "145  4.3 out of 5 stars  https://images-na.ssl-images-amazon.com/images...  \n",
      "146  4.0 out of 5 stars  https://images-na.ssl-images-amazon.com/images...  \n",
      "147  4.3 out of 5 stars  https://images-na.ssl-images-amazon.com/images...  \n",
      "148  4.2 out of 5 stars  https://images-na.ssl-images-amazon.com/images...  \n",
      "149  3.9 out of 5 stars  https://images-na.ssl-images-amazon.com/images...  \n",
      "\n",
      "[150 rows x 4 columns]\n"
     ]
    }
   ],
   "source": [
    "def amazon_mob(url):\n",
    "    driver=webdriver.Chrome(r\"C:\\Users\\SYS1\\Downloads\\chromedriver_win32\\chromedriver.exe\")\n",
    "    start_page=0\n",
    "    end_page=4\n",
    "    urls = []\n",
    "    name=[]\n",
    "    price=[]\n",
    "    image=[]\n",
    "    rating=[]\n",
    "    #loop to fetch urls of each mobile till page 5\n",
    "    for page in range(start_page,end_page+1):\n",
    "        driver.get(url)\n",
    "        soup= BeautifulSoup(driver.page_source, 'html.parser')\n",
    "        prod_urls = soup.find_all('a', attrs ={'class':'a-link-normal a-text-normal'})\n",
    "        for prod in prod_urls:\n",
    "            urls.append('https://www.amazon.in'+prod.get('href'))\n",
    "    \n",
    "    #loop to scrap required details from each mobile page\n",
    "    for url in urls:\n",
    "        driver.get(url)\n",
    "        soup = BeautifulSoup(driver.page_source, 'html.parser')\n",
    "        n = soup.find('h1',attrs={'id':'title'})\n",
    "        if n is not None:\n",
    "            name.append(n.find('span').text.replace('\\n',''))\n",
    "        else:\n",
    "            name.append('-')\n",
    "        rat = soup.find('div', attrs = {'id':'averageCustomerReviews'})\n",
    "        if rat is not None:\n",
    "            rating.append(rat.find('i').find('span').text)\n",
    "        else:\n",
    "            rating.append('-')\n",
    "        p = soup.find('span', attrs = {'class':'a-size-medium a-color-price priceBlockDealPriceString'})\n",
    "        if p is not None:\n",
    "            price.append(p.text[2:])\n",
    "        else:\n",
    "            p = soup.find('div', attrs = {'id':'price'})\n",
    "            if p is not None:\n",
    "                price.append(p.find('span').text[2:])\n",
    "            else:\n",
    "                price.append('-')\n",
    "        img = soup.find('div', attrs = {'class':'imgTagWrapper'})\n",
    "        if img is not None:\n",
    "            image.append(img.find('img').get('src'))\n",
    "        else:\n",
    "            image.append('-')\n",
    "    mob_df = df=pd.DataFrame({'Name':name,\n",
    "                              'Price':price,\n",
    "                              'Rating':rating,\n",
    "                              'Image_link':image})\n",
    "    print(mob_df)\n",
    "    mob_df.to_csv('Amazon Mobiles.csv', index = False)\n",
    "    \n",
    "    \n",
    "# Calling Function\n",
    "amazon_mob('https://www.amazon.in/s?k=mobile+phones+under+20000&rh=n%3A1389432031&dc&qid=1604132579&rnid=3576079031&ref=sr_nr_n_1')"
   ]
  },
  {
   "cell_type": "code",
   "execution_count": null,
   "id": "fantastic-estate",
   "metadata": {},
   "outputs": [],
   "source": []
  }
 ],
 "metadata": {
  "kernelspec": {
   "display_name": "Python 3",
   "language": "python",
   "name": "python3"
  },
  "language_info": {
   "codemirror_mode": {
    "name": "ipython",
    "version": 3
   },
   "file_extension": ".py",
   "mimetype": "text/x-python",
   "name": "python",
   "nbconvert_exporter": "python",
   "pygments_lexer": "ipython3",
   "version": "3.8.5"
  }
 },
 "nbformat": 4,
 "nbformat_minor": 5
}
